{
 "cells": [
  {
   "cell_type": "markdown",
   "id": "5b87c0da",
   "metadata": {},
   "source": [
    "<img src=\"../figuras/terminacion_vertical.jpg\">\n",
    "\n",
    "\n",
    "\n",
    "# Revestimientos Verticales\n",
    "\n",
    "\n",
    "\n",
    "<img src=\"../figuras/indiceRVt.png\">\n"
   ]
  },
  {
   "cell_type": "markdown",
   "id": "d8503fc1",
   "metadata": {},
   "source": [
    "### Revestimiento exterior\n",
    "\n",
    "Se utiliza principalmente para revestimientos exteriores.\n",
    "\n",
    "- Fibrocemento.\n",
    "\n",
    "<img src=\"../figuras/terminacion_fibrocemento.jpg\">\n",
    "\n",
    "- Estucos de mortero de cemento.\n",
    "\n",
    "<img src=\"../figuras/terminacion_estucos.jpg\">\n",
    "\n",
    "- Madera.\n",
    "\n",
    "<img src=\"../figuras/terminacion_madera.jpg\">\n",
    "\n",
    "- Revestimientos metálicos.\n",
    "\n",
    "<img src=\"../figuras/terminacion_Met.jpg\">\n",
    "\n",
    "- PVC (Siding).\n",
    "\n",
    "<img src=\"../figuras/terminacion_PVC.jpg\">\n",
    "\n",
    "- Cerámicos.\n",
    "\n",
    "<img src=\"../figuras/terminacion_ceramicos.jpg\">\n",
    "\n",
    "- Enchapes.\n",
    "\n",
    "<img src=\"../figuras/terminacion_Enchapes.jpg\">\n",
    "\n",
    "- Pinturas.\n",
    "\n",
    "<img src=\"../figuras/terminacion_Pinturas.jpg\">\n"
   ]
  },
  {
   "cell_type": "markdown",
   "id": "adfcea05",
   "metadata": {},
   "source": [
    "### Revestimiento interior\n",
    "\n",
    "Se utiliza principalmente para revestimientos interiores.\n",
    "\n",
    "- Pinturas.\n",
    "\n",
    "<img src=\"../figuras/terminacion_PinturasI.jpg\">\n",
    "\n",
    "- Cerámicas - porcelanato.\n",
    "\n",
    "<img src=\"../figuras/terminacion_ceramicasI.jpg\">\n",
    "\n",
    "- Papel mural.\n",
    "\n",
    "<img src=\"../figuras/terminacion_PM.jpg\">\n",
    "\n",
    "- Madera.\n",
    "\n",
    "<img src=\"../figuras/terminacion_MaderaI.jpg\">\n",
    "\n"
   ]
  },
  {
   "cell_type": "code",
   "execution_count": null,
   "id": "d72463fe",
   "metadata": {},
   "outputs": [],
   "source": [
    "from IPython.display import YouTubeVideo\n",
    "\n",
    "YouTubeVideo(\"oF36Tb0aIA4\")"
   ]
  },
  {
   "cell_type": "markdown",
   "id": "116b2762",
   "metadata": {},
   "source": [
    "- Planchas de terminación\n",
    "   - Planchas de yeso - cartón.\n",
    "   \n",
    "   <img src=\"../figuras/terminacion_YC.jpg\">\n",
    "   \n",
    "   - Planchas de terciado estructural.\n",
    "   \n",
    "   <img src=\"../figuras/terminacion_TE.jpg\">\n",
    "   \n",
    "   - Planchas de fibrocemento.\n",
    "   \n",
    "   <img src=\"../figuras/terminacion_PF.jpg\">"
   ]
  },
  {
   "cell_type": "code",
   "execution_count": null,
   "id": "db490583",
   "metadata": {},
   "outputs": [],
   "source": [
    "from IPython.display import YouTubeVideo\n",
    "\n",
    "YouTubeVideo(\"68ZEJiPfhTM\")"
   ]
  }
 ],
 "metadata": {
  "kernelspec": {
   "display_name": "Python 3 (ipykernel)",
   "language": "python",
   "name": "python3"
  },
  "language_info": {
   "codemirror_mode": {
    "name": "ipython",
    "version": 3
   },
   "file_extension": ".py",
   "mimetype": "text/x-python",
   "name": "python",
   "nbconvert_exporter": "python",
   "pygments_lexer": "ipython3",
   "version": "3.7.15"
  }
 },
 "nbformat": 4,
 "nbformat_minor": 5
}
